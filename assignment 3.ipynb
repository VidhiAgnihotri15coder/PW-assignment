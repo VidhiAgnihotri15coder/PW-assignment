{
 "cells": [
  {
   "cell_type": "markdown",
   "id": "9130f474-bc62-4334-9bff-730f64764e3f",
   "metadata": {},
   "source": [
    "1) Python was developed by Guido Van Rossum\n",
    "2)Python supports dynamic programming\n",
    "3)Python is a case sensitive language\n",
    "4) .py is the correct extension of python\n",
    "5) Python is an interpreted language\n",
    "6)Indentation \n",
    "7)# is used to give single line comment\n",
    "8)sys.version\n",
    "9)lambda\n",
    "10)pip installs packages, preferred installer program\n",
    "11)79\n",
    "12)Python is easy to understand, it is dynamically typed language\n"
   ]
  }
 ],
 "metadata": {
  "kernelspec": {
   "display_name": "Python 3 (ipykernel)",
   "language": "python",
   "name": "python3"
  },
  "language_info": {
   "codemirror_mode": {
    "name": "ipython",
    "version": 3
   },
   "file_extension": ".py",
   "mimetype": "text/x-python",
   "name": "python",
   "nbconvert_exporter": "python",
   "pygments_lexer": "ipython3",
   "version": "3.10.8"
  }
 },
 "nbformat": 4,
 "nbformat_minor": 5
}
