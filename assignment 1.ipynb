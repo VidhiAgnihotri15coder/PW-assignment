{
 "cells": [
  {
   "cell_type": "markdown",
   "id": "7617f020-3502-4d4a-a958-655c63dfb257",
   "metadata": {},
   "source": [
    "Question number 1 : sorting"
   ]
  },
  {
   "cell_type": "code",
   "execution_count": 1,
   "id": "e5b494d4-9a42-4762-8c10-ddc9150fe1a1",
   "metadata": {},
   "outputs": [],
   "source": [
    "l = [(\"Sachin Tendulkar\", 34357), (\"Ricky Ponting\", 27482), (\"Jack Kallis\", 25534), (\"Virat Kohli\", 24936)]"
   ]
  },
  {
   "cell_type": "code",
   "execution_count": 2,
   "id": "6eea0137-dcc0-4db0-a592-9996044a4051",
   "metadata": {},
   "outputs": [
    {
     "ename": "SyntaxError",
     "evalue": "expected 'else' after 'if' expression (4121284212.py, line 1)",
     "output_type": "error",
     "traceback": [
      "\u001b[0;36m  Cell \u001b[0;32mIn[2], line 1\u001b[0;36m\u001b[0m\n\u001b[0;31m    list = lambda x , y : x if x>y, else y\u001b[0m\n\u001b[0m                          ^\u001b[0m\n\u001b[0;31mSyntaxError\u001b[0m\u001b[0;31m:\u001b[0m expected 'else' after 'if' expression\n"
     ]
    }
   ],
   "source": [
    "list = lambda x , y : x if x>y, else y"
   ]
  },
  {
   "cell_type": "code",
   "execution_count": 3,
   "id": "01baad5f-fec1-411a-a4d7-801313d78f84",
   "metadata": {},
   "outputs": [],
   "source": [
    "l.sort(key = lambda x: x[1])"
   ]
  },
  {
   "cell_type": "code",
   "execution_count": 4,
   "id": "1f0cb784-ec99-4882-afd5-b124a189c4e8",
   "metadata": {},
   "outputs": [
    {
     "data": {
      "text/plain": [
       "[('Virat Kohli', 24936),\n",
       " ('Jack Kallis', 25534),\n",
       " ('Ricky Ponting', 27482),\n",
       " ('Sachin Tendulkar', 34357)]"
      ]
     },
     "execution_count": 4,
     "metadata": {},
     "output_type": "execute_result"
    }
   ],
   "source": [
    "l"
   ]
  },
  {
   "cell_type": "markdown",
   "id": "6b43758c-7645-4693-afe8-0c327a2ea193",
   "metadata": {},
   "source": [
    "Question 2 : finding the squares of all the numbers in the given list"
   ]
  },
  {
   "cell_type": "code",
   "execution_count": 5,
   "id": "a631e46b-8b93-4c85-a197-adf23bf38a14",
   "metadata": {},
   "outputs": [],
   "source": [
    "l1 = [1,2,3,4,5,6,7,8,9,10]"
   ]
  },
  {
   "cell_type": "code",
   "execution_count": 7,
   "id": "adff3bb8-a437-4ecd-a24a-71fb99ae383a",
   "metadata": {},
   "outputs": [
    {
     "data": {
      "text/plain": [
       "[1, 4, 9, 16, 25, 36, 49, 64, 81, 100]"
      ]
     },
     "execution_count": 7,
     "metadata": {},
     "output_type": "execute_result"
    }
   ],
   "source": [
    "list(map(lambda x : x**2, l1))"
   ]
  },
  {
   "cell_type": "markdown",
   "id": "abf0c0d0-50a0-4ef6-8da4-5d16e172af73",
   "metadata": {},
   "source": [
    "Question 3: Convert given list into a tuple"
   ]
  },
  {
   "cell_type": "code",
   "execution_count": 8,
   "id": "06aefce5-af9b-498b-8bca-31cac7e2312a",
   "metadata": {},
   "outputs": [],
   "source": [
    "l2 = [1, 2, 3, 4, 5, 6, 7, 8, 9, 10]"
   ]
  },
  {
   "cell_type": "code",
   "execution_count": 9,
   "id": "c0e95baf-4d6a-42ff-8bd3-c6be21d8ac3d",
   "metadata": {},
   "outputs": [],
   "source": [
    "result = tuple(map(lambda x : [x], l2))"
   ]
  },
  {
   "cell_type": "code",
   "execution_count": 10,
   "id": "d6a4da92-0df3-45a6-9365-a2f653bca36a",
   "metadata": {},
   "outputs": [
    {
     "data": {
      "text/plain": [
       "([1], [2], [3], [4], [5], [6], [7], [8], [9], [10])"
      ]
     },
     "execution_count": 10,
     "metadata": {},
     "output_type": "execute_result"
    }
   ],
   "source": [
    "result"
   ]
  },
  {
   "cell_type": "markdown",
   "id": "56f32403-7169-4256-8be0-9e05c0d3532e",
   "metadata": {},
   "source": [
    "Question 4"
   ]
  },
  {
   "cell_type": "code",
   "execution_count": 11,
   "id": "97e3d526-c7a3-4462-a4b9-6660a09d91c5",
   "metadata": {},
   "outputs": [],
   "source": [
    "l3 = range(25)"
   ]
  },
  {
   "cell_type": "code",
   "execution_count": 12,
   "id": "4d38a720-6580-4fac-b45e-55f1fc4a2877",
   "metadata": {},
   "outputs": [
    {
     "ename": "NameError",
     "evalue": "name 'reduce' is not defined",
     "output_type": "error",
     "traceback": [
      "\u001b[0;31m---------------------------------------------------------------------------\u001b[0m",
      "\u001b[0;31mNameError\u001b[0m                                 Traceback (most recent call last)",
      "Cell \u001b[0;32mIn[12], line 1\u001b[0m\n\u001b[0;32m----> 1\u001b[0m \u001b[43mreduce\u001b[49m(\u001b[38;5;28;01mlambda\u001b[39;00m x, y : x\u001b[38;5;241m*\u001b[39my , l3)\n",
      "\u001b[0;31mNameError\u001b[0m: name 'reduce' is not defined"
     ]
    }
   ],
   "source": [
    "l3 = range(25)"
   ]
  },
  {
   "cell_type": "code",
   "execution_count": 13,
   "id": "93d1565e-818f-4f9d-93cf-9321195e5c69",
   "metadata": {},
   "outputs": [],
   "source": [
    "from functools import reduce"
   ]
  },
  {
   "cell_type": "code",
   "execution_count": 16,
   "id": "eaf8cd27-63d7-4150-aa98-a024058b19e9",
   "metadata": {},
   "outputs": [],
   "source": [
    "l3 = range(0, 25)"
   ]
  },
  {
   "cell_type": "code",
   "execution_count": 17,
   "id": "3f1cdd8b-f7c4-4318-8e8f-fd832e2b3366",
   "metadata": {},
   "outputs": [
    {
     "data": {
      "text/plain": [
       "0"
      ]
     },
     "execution_count": 17,
     "metadata": {},
     "output_type": "execute_result"
    }
   ],
   "source": [
    "reduce(lambda x, y : x*y, l3)"
   ]
  },
  {
   "cell_type": "code",
   "execution_count": 18,
   "id": "3eeb78a0-0f37-484d-9e15-dd4d72d11569",
   "metadata": {},
   "outputs": [],
   "source": [
    "l4 = [1, 2, 3, 4, 5, 6, 7, 8, 9, 10, 11, 12, 13, 14, 15, 16, 17, 18, 19, 20, 21, 22, 23, 24, 25]"
   ]
  },
  {
   "cell_type": "code",
   "execution_count": 19,
   "id": "b633e312-aaff-4a67-922b-de884953e702",
   "metadata": {},
   "outputs": [
    {
     "data": {
      "text/plain": [
       "0"
      ]
     },
     "execution_count": 19,
     "metadata": {},
     "output_type": "execute_result"
    }
   ],
   "source": [
    "reduce(lambda x, y : x*y, l3)"
   ]
  },
  {
   "cell_type": "markdown",
   "id": "c571f6a3-784d-434e-adab-ff975637d575",
   "metadata": {},
   "source": [
    "Question 5"
   ]
  },
  {
   "cell_type": "code",
   "execution_count": 20,
   "id": "130341d4-7cad-4a4b-8329-4dd83043f944",
   "metadata": {},
   "outputs": [],
   "source": [
    "l5 = [2, 3, 6, 9, 27, 60, 90, 120, 55, 46]"
   ]
  },
  {
   "cell_type": "code",
   "execution_count": 22,
   "id": "4a47cf58-9efc-4e33-896d-42c1ff34e70f",
   "metadata": {},
   "outputs": [
    {
     "data": {
      "text/plain": [
       "[2, 3, 6, 9, 27, 60, 90, 120, 46]"
      ]
     },
     "execution_count": 22,
     "metadata": {},
     "output_type": "execute_result"
    }
   ],
   "source": [
    "list(filter(lambda x: x%2 == 0 or x%3 ==0, l5))"
   ]
  },
  {
   "cell_type": "code",
   "execution_count": null,
   "id": "d1c2d6bc-e656-4328-b806-d26f458c4718",
   "metadata": {},
   "outputs": [],
   "source": []
  }
 ],
 "metadata": {
  "kernelspec": {
   "display_name": "Python 3 (ipykernel)",
   "language": "python",
   "name": "python3"
  },
  "language_info": {
   "codemirror_mode": {
    "name": "ipython",
    "version": 3
   },
   "file_extension": ".py",
   "mimetype": "text/x-python",
   "name": "python",
   "nbconvert_exporter": "python",
   "pygments_lexer": "ipython3",
   "version": "3.10.8"
  }
 },
 "nbformat": 4,
 "nbformat_minor": 5
}
