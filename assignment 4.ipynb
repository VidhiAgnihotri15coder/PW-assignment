{
 "cells": [
  {
   "cell_type": "markdown",
   "id": "9130f474-bc62-4334-9bff-730f64764e3f",
   "metadata": {},
   "source": [
    "Answer 1: marks = float(input(\"enter your marks\"))\n",
    "if marks >90:\n",
    "   print(\"A\")\n",
    "elif marks > 80 and marks <=90:\n",
    "   print(\"B\")\n",
    "elif marks >=60 and >=80:\n",
    "   print(\"C\")\n",
    "else:\n",
    "   print(\"D\")\n",
    "   \n",
    "Answer :\n",
    "number = int(input(\"enter the number\")\n",
    "count = 0\n",
    "while number > 10:\n",
    "     number = number / 3\n",
    "     count = count + 1\n",
    "print(count)\n",
    "\n",
    "Answer :\n",
    "While loop is used when a condition is already given that the loop will run only till that point where the condition is true\n",
    "for eg run the loop until the number is greater than 10\n",
    "\n"
   ]
  }
 ],
 "metadata": {
  "kernelspec": {
   "display_name": "Python 3 (ipykernel)",
   "language": "python",
   "name": "python3"
  },
  "language_info": {
   "codemirror_mode": {
    "name": "ipython",
    "version": 3
   },
   "file_extension": ".py",
   "mimetype": "text/x-python",
   "name": "python",
   "nbconvert_exporter": "python",
   "pygments_lexer": "ipython3",
   "version": "3.10.8"
  }
 },
 "nbformat": 4,
 "nbformat_minor": 5
}
