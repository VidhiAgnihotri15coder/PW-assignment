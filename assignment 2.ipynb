{
 "cells": [
  {
   "cell_type": "markdown",
   "id": "9130f474-bc62-4334-9bff-730f64764e3f",
   "metadata": {},
   "source": [
    "Answer 1: Class is real world entity which specifies the skeleton of any particular thing while object is the part of class which defines different component of class...for example Univerity is a class and the courses, faculties are it's attributes. Students are the objects example:-"
   ]
  },
  {
   "cell_type": "raw",
   "id": "433aa470-d8a8-47f5-baab-1d3d31b8e055",
   "metadata": {},
   "source": [
    "\n",
    "    "
   ]
  },
  {
   "cell_type": "code",
   "execution_count": 6,
   "id": "90560d31-35c6-4c75-9655-68066bccdf7a",
   "metadata": {},
   "outputs": [],
   "source": [
    "class university:\n",
    "    def __init__(self, course, faculty):\n",
    "        self.course = course\n",
    "        self.faculty = faculty\n",
    "    def return_student_details(self):\n",
    "        \n",
    "        return self.course, self.faculty"
   ]
  },
  {
   "cell_type": "raw",
   "id": "55d011a9-d3ca-45a5-bc77-5267ab260c69",
   "metadata": {},
   "source": [
    "Answer 2 : The four pillars of OOPS are \n",
    "1) Class and Object\n",
    "2) Inheritance\n",
    "3) Encapsulation\n",
    "4) Abstraction\n",
    "\n",
    "Answer 3 : self is used in OOPS to let the class know that the entity belongs to that particular class only\n",
    "\n",
    "Answer 4: Inheritance is a concept of OOPS in which a derived class is obtained from the base class"
   ]
  },
  {
   "cell_type": "markdown",
   "id": "2a5d6c49-8995-4dda-bdbc-0debc1636c5b",
   "metadata": {},
   "source": []
  }
 ],
 "metadata": {
  "kernelspec": {
   "display_name": "Python 3 (ipykernel)",
   "language": "python",
   "name": "python3"
  },
  "language_info": {
   "codemirror_mode": {
    "name": "ipython",
    "version": 3
   },
   "file_extension": ".py",
   "mimetype": "text/x-python",
   "name": "python",
   "nbconvert_exporter": "python",
   "pygments_lexer": "ipython3",
   "version": "3.10.8"
  }
 },
 "nbformat": 4,
 "nbformat_minor": 5
}
